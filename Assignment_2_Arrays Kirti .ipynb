{
 "cells": [
  {
   "cell_type": "markdown",
   "id": "6ca3bcec",
   "metadata": {},
   "source": [
    "Assignement 2: Arrays"
   ]
  },
  {
   "cell_type": "code",
   "execution_count": 1,
   "id": "49091020",
   "metadata": {},
   "outputs": [
    {
     "name": "stdout",
     "output_type": "stream",
     "text": [
      "Maximized sum: 4\n"
     ]
    }
   ],
   "source": [
    "#Question 1:\n",
    "def arrayPairSum(nums):\n",
    "    nums.sort()  # Sort the array in ascending order\n",
    "    max_sum = 0\n",
    "    for i in range(0, len(nums), 2):\n",
    "        max_sum += nums[i]  # Sum every alternate element\n",
    "    return max_sum\n",
    "\n",
    "# Test the function\n",
    "nums = [1, 4, 3, 2]\n",
    "max_sum = arrayPairSum(nums)\n",
    "print(\"Maximized sum:\", max_sum)"
   ]
  },
  {
   "cell_type": "code",
   "execution_count": 2,
   "id": "a82b3739",
   "metadata": {},
   "outputs": [
    {
     "name": "stdout",
     "output_type": "stream",
     "text": [
      "Maximum number of different types of candies: 3\n"
     ]
    }
   ],
   "source": [
    "#Question 2:\n",
    "def maxCandies(candyType):\n",
    "    # Calculate the maximum number of candies Alice can eat (n/2)\n",
    "    max_eat = len(candyType) // 2\n",
    "\n",
    "    # Create a set to store unique candy types\n",
    "    unique_candies = set(candyType)\n",
    "\n",
    "    # Return the minimum of the number of unique candies and max_eat\n",
    "    return min(len(unique_candies), max_eat)\n",
    "\n",
    "# Test the function\n",
    "candyType = [1, 1, 2, 2, 3, 3]\n",
    "max_different_types = maxCandies(candyType)\n",
    "print(\"Maximum number of different types of candies:\", max_different_types)\n"
   ]
  },
  {
   "cell_type": "code",
   "execution_count": 3,
   "id": "173bad52",
   "metadata": {},
   "outputs": [
    {
     "name": "stdout",
     "output_type": "stream",
     "text": [
      "Length of the longest harmonious subsequence: 5\n"
     ]
    }
   ],
   "source": [
    "#Question 3:\n",
    "def findLHS(nums):\n",
    "    num_counts = {}  # Dictionary to store the frequency of each number\n",
    "    for num in nums:\n",
    "        num_counts[num] = num_counts.get(num, 0) + 1  # Increment the count of the number\n",
    "\n",
    "    max_length = 0  # Variable to store the maximum length of the harmonious subsequence\n",
    "\n",
    "    for num in num_counts:\n",
    "        if num + 1 in num_counts:\n",
    "            length = num_counts[num] + num_counts[num + 1]\n",
    "            if length > max_length:\n",
    "                max_length = length\n",
    "\n",
    "    return max_length\n",
    "\n",
    "# Test the function\n",
    "nums = [1, 3, 2, 2, 5, 2, 3, 7]\n",
    "longest_subsequence_length = findLHS(nums)\n",
    "print(\"Length of the longest harmonious subsequence:\", longest_subsequence_length)\n"
   ]
  },
  {
   "cell_type": "code",
   "execution_count": 4,
   "id": "fc26738a",
   "metadata": {},
   "outputs": [
    {
     "name": "stdout",
     "output_type": "stream",
     "text": [
      "Can plant 1 flowers? True\n"
     ]
    }
   ],
   "source": [
    "#Question 4:\n",
    "def canPlaceFlowers(flowerbed, n):\n",
    "    count = 0  # Count of remaining flowers to plant\n",
    "    i = 0  # Index for iterating through the flowerbed\n",
    "\n",
    "    while i < len(flowerbed):\n",
    "        if flowerbed[i] == 0:\n",
    "            # Check if the current plot and its adjacent plots are empty\n",
    "            if (i == 0 or flowerbed[i - 1] == 0) and (i == len(flowerbed) - 1 or flowerbed[i + 1] == 0):\n",
    "                flowerbed[i] = 1  # Plant a flower in the current plot\n",
    "                count += 1\n",
    "                if count == n:\n",
    "                    return True\n",
    "        i += 1\n",
    "\n",
    "    return False\n",
    "\n",
    "# Test the function\n",
    "flowerbed = [1, 0, 0, 0, 1]\n",
    "n = 1\n",
    "can_plant = canPlaceFlowers(flowerbed, n)\n",
    "print(\"Can plant\", n, \"flowers?\", can_plant)"
   ]
  },
  {
   "cell_type": "code",
   "execution_count": 5,
   "id": "b4765f76",
   "metadata": {},
   "outputs": [
    {
     "name": "stdout",
     "output_type": "stream",
     "text": [
      "Maximum product of three numbers: 6\n"
     ]
    }
   ],
   "source": [
    "#Question 5:\n",
    "def maximumProduct(nums):\n",
    "    nums.sort()  # Sort the array in ascending order\n",
    "    n = len(nums)\n",
    "    return max(nums[n-1] * nums[n-2] * nums[n-3], nums[0] * nums[1] * nums[n-1])\n",
    "\n",
    "# Test the function\n",
    "nums = [1, 2, 3]\n",
    "max_product = maximumProduct(nums)\n",
    "print(\"Maximum product of three numbers:\", max_product)\n"
   ]
  },
  {
   "cell_type": "code",
   "execution_count": 6,
   "id": "e60c8087",
   "metadata": {},
   "outputs": [
    {
     "name": "stdout",
     "output_type": "stream",
     "text": [
      "Index of target: 4\n"
     ]
    }
   ],
   "source": [
    "#Question 6:\n",
    "def search(nums, target):\n",
    "    left = 0\n",
    "    right = len(nums) - 1\n",
    "\n",
    "    while left <= right:\n",
    "        mid = left + (right - left) // 2  # Calculate the middle index\n",
    "\n",
    "        if nums[mid] == target:\n",
    "            return mid  # Target found at index mid\n",
    "        elif nums[mid] < target:\n",
    "            left = mid + 1  # Search the right half\n",
    "        else:\n",
    "            right = mid - 1  # Search the left half\n",
    "\n",
    "    return -1  # Target not found\n",
    "\n",
    "# Test the function\n",
    "nums = [-1, 0, 3, 5, 9, 12]\n",
    "target = 9\n",
    "index = search(nums, target)\n",
    "print(\"Index of target:\", index)\n"
   ]
  },
  {
   "cell_type": "code",
   "execution_count": 7,
   "id": "b22b7df3",
   "metadata": {},
   "outputs": [
    {
     "name": "stdout",
     "output_type": "stream",
     "text": [
      "Is the array monotonic? True\n"
     ]
    }
   ],
   "source": [
    "#Question 7:\n",
    "def isMonotonic(nums):\n",
    "    increasing = decreasing = True\n",
    "\n",
    "    for i in range(1, len(nums)):\n",
    "        if nums[i] < nums[i - 1]:\n",
    "            increasing = False\n",
    "        if nums[i] > nums[i - 1]:\n",
    "            decreasing = False\n",
    "\n",
    "    return increasing or decreasing\n",
    "\n",
    "# Test the function\n",
    "nums = [1, 2, 2, 3]\n",
    "is_monotonic = isMonotonic(nums)\n",
    "print(\"Is the array monotonic?\", is_monotonic)\n"
   ]
  },
  {
   "cell_type": "code",
   "execution_count": 8,
   "id": "019ca95a",
   "metadata": {},
   "outputs": [
    {
     "name": "stdout",
     "output_type": "stream",
     "text": [
      "Minimum score of nums: 0\n"
     ]
    }
   ],
   "source": [
    "#Question 8:\n",
    "def minDifference(nums, k):\n",
    "    if len(nums) <= 4:\n",
    "        return 0\n",
    "\n",
    "    nums.sort()  # Sort the array in ascending order\n",
    "\n",
    "    # Try all possible operations on the first and last three elements\n",
    "    return min(nums[-4] - nums[0], nums[-3] - nums[1], nums[-2] - nums[2], nums[-1] - nums[3])\n",
    "\n",
    "# Test the function\n",
    "nums = [1]\n",
    "k = 0\n",
    "min_score = minDifference(nums, k)\n",
    "print(\"Minimum score of nums:\", min_score)\n"
   ]
  },
  {
   "cell_type": "code",
   "execution_count": null,
   "id": "47064be5",
   "metadata": {},
   "outputs": [],
   "source": []
  }
 ],
 "metadata": {
  "kernelspec": {
   "display_name": "Python 3 (ipykernel)",
   "language": "python",
   "name": "python3"
  },
  "language_info": {
   "codemirror_mode": {
    "name": "ipython",
    "version": 3
   },
   "file_extension": ".py",
   "mimetype": "text/x-python",
   "name": "python",
   "nbconvert_exporter": "python",
   "pygments_lexer": "ipython3",
   "version": "3.9.7"
  }
 },
 "nbformat": 4,
 "nbformat_minor": 5
}
